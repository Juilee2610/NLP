{
  "nbformat": 4,
  "nbformat_minor": 0,
  "metadata": {
    "colab": {
      "provenance": []
    },
    "kernelspec": {
      "name": "python3",
      "display_name": "Python 3"
    },
    "language_info": {
      "name": "python"
    }
  },
  "cells": [
    {
      "cell_type": "code",
      "execution_count": 21,
      "metadata": {
        "id": "KBzqjV5yNNbo"
      },
      "outputs": [],
      "source": [
        "import pandas as pd"
      ]
    },
    {
      "cell_type": "code",
      "source": [
        "#loading the dataset\n",
        "df = pd.read_csv(\"Train.csv\")"
      ],
      "metadata": {
        "id": "IgFdgkeINZEQ"
      },
      "execution_count": 22,
      "outputs": []
    },
    {
      "cell_type": "code",
      "source": [
        "missing_values = df.isnull().sum()\n",
        "print(missing_values)"
      ],
      "metadata": {
        "id": "UpgddiozfYxc",
        "outputId": "aca586b6-4e3a-48be-f2b4-9434850fc9d1",
        "colab": {
          "base_uri": "https://localhost:8080/"
        }
      },
      "execution_count": 23,
      "outputs": [
        {
          "output_type": "stream",
          "name": "stdout",
          "text": [
            "id             0\n",
            "Sentence       0\n",
            "Aspect Term    0\n",
            "polarity       0\n",
            "from           0\n",
            "to             0\n",
            "dtype: int64\n"
          ]
        }
      ]
    },
    {
      "cell_type": "code",
      "source": [
        "print(df.head())"
      ],
      "metadata": {
        "colab": {
          "base_uri": "https://localhost:8080/"
        },
        "id": "MPngpBwoNgis",
        "outputId": "8629cd43-13d6-4e94-a598-bfd4e98976fb"
      },
      "execution_count": 24,
      "outputs": [
        {
          "output_type": "stream",
          "name": "stdout",
          "text": [
            "     id                                           Sentence     Aspect Term  \\\n",
            "0  2339  I charge it at night and skip taking the cord ...            cord   \n",
            "1  2339  I charge it at night and skip taking the cord ...    battery life   \n",
            "2  1316  The tech guy then said the service center does...  service center   \n",
            "3  1316  The tech guy then said the service center does...    \"sales\" team   \n",
            "4  1316  The tech guy then said the service center does...        tech guy   \n",
            "\n",
            "   polarity  from   to  \n",
            "0   neutral    41   45  \n",
            "1  positive    74   86  \n",
            "2  negative    27   41  \n",
            "3  negative   109  121  \n",
            "4   neutral     4   12  \n"
          ]
        }
      ]
    },
    {
      "cell_type": "code",
      "source": [
        "print(df.info())"
      ],
      "metadata": {
        "colab": {
          "base_uri": "https://localhost:8080/"
        },
        "id": "4qOV2c4pNiV8",
        "outputId": "8732ecb0-529d-451d-a343-457920d16989"
      },
      "execution_count": 25,
      "outputs": [
        {
          "output_type": "stream",
          "name": "stdout",
          "text": [
            "<class 'pandas.core.frame.DataFrame'>\n",
            "RangeIndex: 2358 entries, 0 to 2357\n",
            "Data columns (total 6 columns):\n",
            " #   Column       Non-Null Count  Dtype \n",
            "---  ------       --------------  ----- \n",
            " 0   id           2358 non-null   int64 \n",
            " 1   Sentence     2358 non-null   object\n",
            " 2   Aspect Term  2358 non-null   object\n",
            " 3   polarity     2358 non-null   object\n",
            " 4   from         2358 non-null   int64 \n",
            " 5   to           2358 non-null   int64 \n",
            "dtypes: int64(3), object(3)\n",
            "memory usage: 110.7+ KB\n",
            "None\n"
          ]
        }
      ]
    },
    {
      "cell_type": "code",
      "source": [
        "print(df.describe())"
      ],
      "metadata": {
        "colab": {
          "base_uri": "https://localhost:8080/"
        },
        "id": "CTVoL8gfPqHG",
        "outputId": "72ada9b5-a424-4215-fdde-ed3ea6d15220"
      },
      "execution_count": 26,
      "outputs": [
        {
          "output_type": "stream",
          "name": "stdout",
          "text": [
            "                id         from           to\n",
            "count  2358.000000  2358.000000  2358.000000\n",
            "mean   1627.559372    49.363020    58.785411\n",
            "std     910.748883    44.026428    44.328897\n",
            "min       3.000000     0.000000     3.000000\n",
            "25%     834.250000    17.000000    26.000000\n",
            "50%    1684.000000    38.000000    48.000000\n",
            "75%    2446.000000    71.000000    80.000000\n",
            "max    3085.000000   349.000000   356.000000\n"
          ]
        }
      ]
    },
    {
      "cell_type": "code",
      "source": [
        "df = df.drop(columns=['id'])\n",
        "print(df.head())"
      ],
      "metadata": {
        "colab": {
          "base_uri": "https://localhost:8080/"
        },
        "id": "lbC1hetKPz-9",
        "outputId": "1f11742e-0b01-403a-b496-d5c25dac2219"
      },
      "execution_count": 27,
      "outputs": [
        {
          "output_type": "stream",
          "name": "stdout",
          "text": [
            "                                            Sentence     Aspect Term  \\\n",
            "0  I charge it at night and skip taking the cord ...            cord   \n",
            "1  I charge it at night and skip taking the cord ...    battery life   \n",
            "2  The tech guy then said the service center does...  service center   \n",
            "3  The tech guy then said the service center does...    \"sales\" team   \n",
            "4  The tech guy then said the service center does...        tech guy   \n",
            "\n",
            "   polarity  from   to  \n",
            "0   neutral    41   45  \n",
            "1  positive    74   86  \n",
            "2  negative    27   41  \n",
            "3  negative   109  121  \n",
            "4   neutral     4   12  \n"
          ]
        }
      ]
    },
    {
      "cell_type": "code",
      "source": [
        "#printing unique value counts from polarity\n",
        "df['polarity'].value_counts()\n"
      ],
      "metadata": {
        "colab": {
          "base_uri": "https://localhost:8080/",
          "height": 241
        },
        "id": "lepPXhL2Qrub",
        "outputId": "030e93a7-3ca8-4fb3-d89e-1315f031e5c1"
      },
      "execution_count": 28,
      "outputs": [
        {
          "output_type": "execute_result",
          "data": {
            "text/plain": [
              "polarity\n",
              "positive    987\n",
              "negative    866\n",
              "neutral     460\n",
              "conflict     45\n",
              "Name: count, dtype: int64"
            ],
            "text/html": [
              "<div>\n",
              "<style scoped>\n",
              "    .dataframe tbody tr th:only-of-type {\n",
              "        vertical-align: middle;\n",
              "    }\n",
              "\n",
              "    .dataframe tbody tr th {\n",
              "        vertical-align: top;\n",
              "    }\n",
              "\n",
              "    .dataframe thead th {\n",
              "        text-align: right;\n",
              "    }\n",
              "</style>\n",
              "<table border=\"1\" class=\"dataframe\">\n",
              "  <thead>\n",
              "    <tr style=\"text-align: right;\">\n",
              "      <th></th>\n",
              "      <th>count</th>\n",
              "    </tr>\n",
              "    <tr>\n",
              "      <th>polarity</th>\n",
              "      <th></th>\n",
              "    </tr>\n",
              "  </thead>\n",
              "  <tbody>\n",
              "    <tr>\n",
              "      <th>positive</th>\n",
              "      <td>987</td>\n",
              "    </tr>\n",
              "    <tr>\n",
              "      <th>negative</th>\n",
              "      <td>866</td>\n",
              "    </tr>\n",
              "    <tr>\n",
              "      <th>neutral</th>\n",
              "      <td>460</td>\n",
              "    </tr>\n",
              "    <tr>\n",
              "      <th>conflict</th>\n",
              "      <td>45</td>\n",
              "    </tr>\n",
              "  </tbody>\n",
              "</table>\n",
              "</div><br><label><b>dtype:</b> int64</label>"
            ]
          },
          "metadata": {},
          "execution_count": 28
        }
      ]
    },
    {
      "cell_type": "code",
      "source": [
        "#dropping observations with polarity == conflict as not necessary\n",
        "\n",
        "df = df[df['polarity'] != 'conflict']\n"
      ],
      "metadata": {
        "id": "IdXk4oijRB7L"
      },
      "execution_count": 29,
      "outputs": []
    },
    {
      "cell_type": "code",
      "source": [
        "#count the value counts for every class\n",
        "\n",
        "df['polarity'].value_counts()"
      ],
      "metadata": {
        "colab": {
          "base_uri": "https://localhost:8080/",
          "height": 210
        },
        "id": "Mnz2nMdHR5yR",
        "outputId": "9349e92e-3a75-4666-813b-7d411b481453"
      },
      "execution_count": 30,
      "outputs": [
        {
          "output_type": "execute_result",
          "data": {
            "text/plain": [
              "polarity\n",
              "positive    987\n",
              "negative    866\n",
              "neutral     460\n",
              "Name: count, dtype: int64"
            ],
            "text/html": [
              "<div>\n",
              "<style scoped>\n",
              "    .dataframe tbody tr th:only-of-type {\n",
              "        vertical-align: middle;\n",
              "    }\n",
              "\n",
              "    .dataframe tbody tr th {\n",
              "        vertical-align: top;\n",
              "    }\n",
              "\n",
              "    .dataframe thead th {\n",
              "        text-align: right;\n",
              "    }\n",
              "</style>\n",
              "<table border=\"1\" class=\"dataframe\">\n",
              "  <thead>\n",
              "    <tr style=\"text-align: right;\">\n",
              "      <th></th>\n",
              "      <th>count</th>\n",
              "    </tr>\n",
              "    <tr>\n",
              "      <th>polarity</th>\n",
              "      <th></th>\n",
              "    </tr>\n",
              "  </thead>\n",
              "  <tbody>\n",
              "    <tr>\n",
              "      <th>positive</th>\n",
              "      <td>987</td>\n",
              "    </tr>\n",
              "    <tr>\n",
              "      <th>negative</th>\n",
              "      <td>866</td>\n",
              "    </tr>\n",
              "    <tr>\n",
              "      <th>neutral</th>\n",
              "      <td>460</td>\n",
              "    </tr>\n",
              "  </tbody>\n",
              "</table>\n",
              "</div><br><label><b>dtype:</b> int64</label>"
            ]
          },
          "metadata": {},
          "execution_count": 30
        }
      ]
    },
    {
      "cell_type": "markdown",
      "source": [
        "# Preproccesing of text"
      ],
      "metadata": {
        "id": "bLXsPnbxSxi6"
      }
    },
    {
      "cell_type": "code",
      "source": [
        "#Importing necessary libraries\n",
        "import nltk\n",
        "nltk.download('stopwords')\n",
        "nltk.download('punkt')\n",
        "nltk.download('wordnet')\n",
        "import re\n",
        "from nltk.corpus import stopwords\n",
        "from nltk.tokenize import word_tokenize\n",
        "from nltk.stem import WordNetLemmatizer\n",
        "from textblob import TextBlob\n",
        "from nltk.tokenize import word_tokenize\n",
        "\n",
        "# Lowercasing\n",
        "\n",
        "df['Sentence'] = df['Sentence'].str.lower()\n",
        "df['Aspect Term'] = df['Aspect Term'].str.lower()\n",
        "\n",
        "\n",
        "#Removing stopwords\n",
        "stop_words = set(stopwords.words('english'))\n",
        "df['Sentence'] = df['Sentence'].apply(lambda x: ' '.join([word for word in word_tokenize(x) if word not in stop_words]))\n",
        "df['Aspect Term'] = df['Aspect Term'].apply(lambda x: ' '.join([word for word in word_tokenize(x) if word not in stop_words]))\n",
        "\n",
        "#Lemmatization\n",
        "lemmatizer = WordNetLemmatizer()\n",
        "df['Sentence'] = df['Sentence'].apply(lambda x: ' '.join([lemmatizer.lemmatize(word) for word in word_tokenize(x)]))\n",
        "df['Aspect Term'] = df['Aspect Term'].apply(lambda x: ' '.join([lemmatizer.lemmatize(word) for word in word_tokenize(x)]))\n",
        "\n",
        "#Removing punctuation and special characters\n",
        "df['Sentence'] = df['Sentence'].str.replace(r'[^\\w\\s]', '', regex=True)\n",
        "df['Aspect Term'] = df['Aspect Term'].str.replace(r'[^\\w\\s]', '', regex=True)\n",
        "\n",
        "#Removing extra white spaces\n",
        "df['Sentence'] = df['Sentence'].str.replace(r'\\s+', ' ', regex=True)\n",
        "df['Aspect Term'] = df['Aspect Term'].str.replace(r'\\s+', ' ', regex=True)\n",
        "\n",
        "#trailing white spaces\n",
        "df['Sentence'] = df['Sentence'].str.strip()\n",
        "df['Aspect Term'] = df['Aspect Term'].str.strip()\n",
        "\n",
        "# #tokenization\n",
        "# df['Sentence_Tokens'] = df['Sentence'].apply(word_tokenize)\n",
        "# df['Aspect_Tokens'] = df['Aspect Term'].apply(word_tokenize)\n",
        "\n"
      ],
      "metadata": {
        "colab": {
          "base_uri": "https://localhost:8080/"
        },
        "id": "aAQYMMCnSMG0",
        "outputId": "9f848463-e56a-4ff9-a526-b606b91f3a84"
      },
      "execution_count": 31,
      "outputs": [
        {
          "output_type": "stream",
          "name": "stderr",
          "text": [
            "[nltk_data] Downloading package stopwords to /root/nltk_data...\n",
            "[nltk_data]   Package stopwords is already up-to-date!\n",
            "[nltk_data] Downloading package punkt to /root/nltk_data...\n",
            "[nltk_data]   Package punkt is already up-to-date!\n",
            "[nltk_data] Downloading package wordnet to /root/nltk_data...\n",
            "[nltk_data]   Package wordnet is already up-to-date!\n"
          ]
        }
      ]
    },
    {
      "cell_type": "code",
      "source": [
        "print(df['Sentence'].head())"
      ],
      "metadata": {
        "colab": {
          "base_uri": "https://localhost:8080/"
        },
        "id": "5683c8bQio8j",
        "outputId": "6bf69e94-702b-4084-a9d8-b32342a8611e"
      },
      "execution_count": 32,
      "outputs": [
        {
          "output_type": "stream",
          "name": "stdout",
          "text": [
            "0      charge night skip taking cord good battery life\n",
            "1      charge night skip taking cord good battery life\n",
            "2    tech guy said service center 1to1 exchange dir...\n",
            "3    tech guy said service center 1to1 exchange dir...\n",
            "4    tech guy said service center 1to1 exchange dir...\n",
            "Name: Sentence, dtype: object\n"
          ]
        }
      ]
    },
    {
      "cell_type": "code",
      "source": [
        "df.head(10)"
      ],
      "metadata": {
        "colab": {
          "base_uri": "https://localhost:8080/",
          "height": 363
        },
        "id": "uTHHSfH0io3b",
        "outputId": "d532502f-59e3-4e4a-df03-5ba6bdac5f92"
      },
      "execution_count": 33,
      "outputs": [
        {
          "output_type": "execute_result",
          "data": {
            "text/plain": [
              "                                            Sentence     Aspect Term  \\\n",
              "0    charge night skip taking cord good battery life            cord   \n",
              "1    charge night skip taking cord good battery life    battery life   \n",
              "2  tech guy said service center 1to1 exchange dir...  service center   \n",
              "3  tech guy said service center 1to1 exchange dir...       sale team   \n",
              "4  tech guy said service center 1to1 exchange dir...        tech guy   \n",
              "5  high quality killer gui extremely stable highl...         quality   \n",
              "6  high quality killer gui extremely stable highl...             gui   \n",
              "7  high quality killer gui extremely stable highl...     application   \n",
              "8  high quality killer gui extremely stable highl...             use   \n",
              "9                    easy start overheat much laptop           start   \n",
              "\n",
              "   polarity  from   to  \n",
              "0   neutral    41   45  \n",
              "1  positive    74   86  \n",
              "2  negative    27   41  \n",
              "3  negative   109  121  \n",
              "4   neutral     4   12  \n",
              "5  positive    14   21  \n",
              "6  positive    36   39  \n",
              "7  positive   118  130  \n",
              "8  positive   143  146  \n",
              "9  positive     8   16  "
            ],
            "text/html": [
              "\n",
              "  <div id=\"df-55ce0376-d8a6-4df4-b477-406c08b03bbe\" class=\"colab-df-container\">\n",
              "    <div>\n",
              "<style scoped>\n",
              "    .dataframe tbody tr th:only-of-type {\n",
              "        vertical-align: middle;\n",
              "    }\n",
              "\n",
              "    .dataframe tbody tr th {\n",
              "        vertical-align: top;\n",
              "    }\n",
              "\n",
              "    .dataframe thead th {\n",
              "        text-align: right;\n",
              "    }\n",
              "</style>\n",
              "<table border=\"1\" class=\"dataframe\">\n",
              "  <thead>\n",
              "    <tr style=\"text-align: right;\">\n",
              "      <th></th>\n",
              "      <th>Sentence</th>\n",
              "      <th>Aspect Term</th>\n",
              "      <th>polarity</th>\n",
              "      <th>from</th>\n",
              "      <th>to</th>\n",
              "    </tr>\n",
              "  </thead>\n",
              "  <tbody>\n",
              "    <tr>\n",
              "      <th>0</th>\n",
              "      <td>charge night skip taking cord good battery life</td>\n",
              "      <td>cord</td>\n",
              "      <td>neutral</td>\n",
              "      <td>41</td>\n",
              "      <td>45</td>\n",
              "    </tr>\n",
              "    <tr>\n",
              "      <th>1</th>\n",
              "      <td>charge night skip taking cord good battery life</td>\n",
              "      <td>battery life</td>\n",
              "      <td>positive</td>\n",
              "      <td>74</td>\n",
              "      <td>86</td>\n",
              "    </tr>\n",
              "    <tr>\n",
              "      <th>2</th>\n",
              "      <td>tech guy said service center 1to1 exchange dir...</td>\n",
              "      <td>service center</td>\n",
              "      <td>negative</td>\n",
              "      <td>27</td>\n",
              "      <td>41</td>\n",
              "    </tr>\n",
              "    <tr>\n",
              "      <th>3</th>\n",
              "      <td>tech guy said service center 1to1 exchange dir...</td>\n",
              "      <td>sale team</td>\n",
              "      <td>negative</td>\n",
              "      <td>109</td>\n",
              "      <td>121</td>\n",
              "    </tr>\n",
              "    <tr>\n",
              "      <th>4</th>\n",
              "      <td>tech guy said service center 1to1 exchange dir...</td>\n",
              "      <td>tech guy</td>\n",
              "      <td>neutral</td>\n",
              "      <td>4</td>\n",
              "      <td>12</td>\n",
              "    </tr>\n",
              "    <tr>\n",
              "      <th>5</th>\n",
              "      <td>high quality killer gui extremely stable highl...</td>\n",
              "      <td>quality</td>\n",
              "      <td>positive</td>\n",
              "      <td>14</td>\n",
              "      <td>21</td>\n",
              "    </tr>\n",
              "    <tr>\n",
              "      <th>6</th>\n",
              "      <td>high quality killer gui extremely stable highl...</td>\n",
              "      <td>gui</td>\n",
              "      <td>positive</td>\n",
              "      <td>36</td>\n",
              "      <td>39</td>\n",
              "    </tr>\n",
              "    <tr>\n",
              "      <th>7</th>\n",
              "      <td>high quality killer gui extremely stable highl...</td>\n",
              "      <td>application</td>\n",
              "      <td>positive</td>\n",
              "      <td>118</td>\n",
              "      <td>130</td>\n",
              "    </tr>\n",
              "    <tr>\n",
              "      <th>8</th>\n",
              "      <td>high quality killer gui extremely stable highl...</td>\n",
              "      <td>use</td>\n",
              "      <td>positive</td>\n",
              "      <td>143</td>\n",
              "      <td>146</td>\n",
              "    </tr>\n",
              "    <tr>\n",
              "      <th>9</th>\n",
              "      <td>easy start overheat much laptop</td>\n",
              "      <td>start</td>\n",
              "      <td>positive</td>\n",
              "      <td>8</td>\n",
              "      <td>16</td>\n",
              "    </tr>\n",
              "  </tbody>\n",
              "</table>\n",
              "</div>\n",
              "    <div class=\"colab-df-buttons\">\n",
              "\n",
              "  <div class=\"colab-df-container\">\n",
              "    <button class=\"colab-df-convert\" onclick=\"convertToInteractive('df-55ce0376-d8a6-4df4-b477-406c08b03bbe')\"\n",
              "            title=\"Convert this dataframe to an interactive table.\"\n",
              "            style=\"display:none;\">\n",
              "\n",
              "  <svg xmlns=\"http://www.w3.org/2000/svg\" height=\"24px\" viewBox=\"0 -960 960 960\">\n",
              "    <path d=\"M120-120v-720h720v720H120Zm60-500h600v-160H180v160Zm220 220h160v-160H400v160Zm0 220h160v-160H400v160ZM180-400h160v-160H180v160Zm440 0h160v-160H620v160ZM180-180h160v-160H180v160Zm440 0h160v-160H620v160Z\"/>\n",
              "  </svg>\n",
              "    </button>\n",
              "\n",
              "  <style>\n",
              "    .colab-df-container {\n",
              "      display:flex;\n",
              "      gap: 12px;\n",
              "    }\n",
              "\n",
              "    .colab-df-convert {\n",
              "      background-color: #E8F0FE;\n",
              "      border: none;\n",
              "      border-radius: 50%;\n",
              "      cursor: pointer;\n",
              "      display: none;\n",
              "      fill: #1967D2;\n",
              "      height: 32px;\n",
              "      padding: 0 0 0 0;\n",
              "      width: 32px;\n",
              "    }\n",
              "\n",
              "    .colab-df-convert:hover {\n",
              "      background-color: #E2EBFA;\n",
              "      box-shadow: 0px 1px 2px rgba(60, 64, 67, 0.3), 0px 1px 3px 1px rgba(60, 64, 67, 0.15);\n",
              "      fill: #174EA6;\n",
              "    }\n",
              "\n",
              "    .colab-df-buttons div {\n",
              "      margin-bottom: 4px;\n",
              "    }\n",
              "\n",
              "    [theme=dark] .colab-df-convert {\n",
              "      background-color: #3B4455;\n",
              "      fill: #D2E3FC;\n",
              "    }\n",
              "\n",
              "    [theme=dark] .colab-df-convert:hover {\n",
              "      background-color: #434B5C;\n",
              "      box-shadow: 0px 1px 3px 1px rgba(0, 0, 0, 0.15);\n",
              "      filter: drop-shadow(0px 1px 2px rgba(0, 0, 0, 0.3));\n",
              "      fill: #FFFFFF;\n",
              "    }\n",
              "  </style>\n",
              "\n",
              "    <script>\n",
              "      const buttonEl =\n",
              "        document.querySelector('#df-55ce0376-d8a6-4df4-b477-406c08b03bbe button.colab-df-convert');\n",
              "      buttonEl.style.display =\n",
              "        google.colab.kernel.accessAllowed ? 'block' : 'none';\n",
              "\n",
              "      async function convertToInteractive(key) {\n",
              "        const element = document.querySelector('#df-55ce0376-d8a6-4df4-b477-406c08b03bbe');\n",
              "        const dataTable =\n",
              "          await google.colab.kernel.invokeFunction('convertToInteractive',\n",
              "                                                    [key], {});\n",
              "        if (!dataTable) return;\n",
              "\n",
              "        const docLinkHtml = 'Like what you see? Visit the ' +\n",
              "          '<a target=\"_blank\" href=https://colab.research.google.com/notebooks/data_table.ipynb>data table notebook</a>'\n",
              "          + ' to learn more about interactive tables.';\n",
              "        element.innerHTML = '';\n",
              "        dataTable['output_type'] = 'display_data';\n",
              "        await google.colab.output.renderOutput(dataTable, element);\n",
              "        const docLink = document.createElement('div');\n",
              "        docLink.innerHTML = docLinkHtml;\n",
              "        element.appendChild(docLink);\n",
              "      }\n",
              "    </script>\n",
              "  </div>\n",
              "\n",
              "\n",
              "<div id=\"df-3954f40a-fe96-4962-9750-a296baac51cd\">\n",
              "  <button class=\"colab-df-quickchart\" onclick=\"quickchart('df-3954f40a-fe96-4962-9750-a296baac51cd')\"\n",
              "            title=\"Suggest charts\"\n",
              "            style=\"display:none;\">\n",
              "\n",
              "<svg xmlns=\"http://www.w3.org/2000/svg\" height=\"24px\"viewBox=\"0 0 24 24\"\n",
              "     width=\"24px\">\n",
              "    <g>\n",
              "        <path d=\"M19 3H5c-1.1 0-2 .9-2 2v14c0 1.1.9 2 2 2h14c1.1 0 2-.9 2-2V5c0-1.1-.9-2-2-2zM9 17H7v-7h2v7zm4 0h-2V7h2v10zm4 0h-2v-4h2v4z\"/>\n",
              "    </g>\n",
              "</svg>\n",
              "  </button>\n",
              "\n",
              "<style>\n",
              "  .colab-df-quickchart {\n",
              "      --bg-color: #E8F0FE;\n",
              "      --fill-color: #1967D2;\n",
              "      --hover-bg-color: #E2EBFA;\n",
              "      --hover-fill-color: #174EA6;\n",
              "      --disabled-fill-color: #AAA;\n",
              "      --disabled-bg-color: #DDD;\n",
              "  }\n",
              "\n",
              "  [theme=dark] .colab-df-quickchart {\n",
              "      --bg-color: #3B4455;\n",
              "      --fill-color: #D2E3FC;\n",
              "      --hover-bg-color: #434B5C;\n",
              "      --hover-fill-color: #FFFFFF;\n",
              "      --disabled-bg-color: #3B4455;\n",
              "      --disabled-fill-color: #666;\n",
              "  }\n",
              "\n",
              "  .colab-df-quickchart {\n",
              "    background-color: var(--bg-color);\n",
              "    border: none;\n",
              "    border-radius: 50%;\n",
              "    cursor: pointer;\n",
              "    display: none;\n",
              "    fill: var(--fill-color);\n",
              "    height: 32px;\n",
              "    padding: 0;\n",
              "    width: 32px;\n",
              "  }\n",
              "\n",
              "  .colab-df-quickchart:hover {\n",
              "    background-color: var(--hover-bg-color);\n",
              "    box-shadow: 0 1px 2px rgba(60, 64, 67, 0.3), 0 1px 3px 1px rgba(60, 64, 67, 0.15);\n",
              "    fill: var(--button-hover-fill-color);\n",
              "  }\n",
              "\n",
              "  .colab-df-quickchart-complete:disabled,\n",
              "  .colab-df-quickchart-complete:disabled:hover {\n",
              "    background-color: var(--disabled-bg-color);\n",
              "    fill: var(--disabled-fill-color);\n",
              "    box-shadow: none;\n",
              "  }\n",
              "\n",
              "  .colab-df-spinner {\n",
              "    border: 2px solid var(--fill-color);\n",
              "    border-color: transparent;\n",
              "    border-bottom-color: var(--fill-color);\n",
              "    animation:\n",
              "      spin 1s steps(1) infinite;\n",
              "  }\n",
              "\n",
              "  @keyframes spin {\n",
              "    0% {\n",
              "      border-color: transparent;\n",
              "      border-bottom-color: var(--fill-color);\n",
              "      border-left-color: var(--fill-color);\n",
              "    }\n",
              "    20% {\n",
              "      border-color: transparent;\n",
              "      border-left-color: var(--fill-color);\n",
              "      border-top-color: var(--fill-color);\n",
              "    }\n",
              "    30% {\n",
              "      border-color: transparent;\n",
              "      border-left-color: var(--fill-color);\n",
              "      border-top-color: var(--fill-color);\n",
              "      border-right-color: var(--fill-color);\n",
              "    }\n",
              "    40% {\n",
              "      border-color: transparent;\n",
              "      border-right-color: var(--fill-color);\n",
              "      border-top-color: var(--fill-color);\n",
              "    }\n",
              "    60% {\n",
              "      border-color: transparent;\n",
              "      border-right-color: var(--fill-color);\n",
              "    }\n",
              "    80% {\n",
              "      border-color: transparent;\n",
              "      border-right-color: var(--fill-color);\n",
              "      border-bottom-color: var(--fill-color);\n",
              "    }\n",
              "    90% {\n",
              "      border-color: transparent;\n",
              "      border-bottom-color: var(--fill-color);\n",
              "    }\n",
              "  }\n",
              "</style>\n",
              "\n",
              "  <script>\n",
              "    async function quickchart(key) {\n",
              "      const quickchartButtonEl =\n",
              "        document.querySelector('#' + key + ' button');\n",
              "      quickchartButtonEl.disabled = true;  // To prevent multiple clicks.\n",
              "      quickchartButtonEl.classList.add('colab-df-spinner');\n",
              "      try {\n",
              "        const charts = await google.colab.kernel.invokeFunction(\n",
              "            'suggestCharts', [key], {});\n",
              "      } catch (error) {\n",
              "        console.error('Error during call to suggestCharts:', error);\n",
              "      }\n",
              "      quickchartButtonEl.classList.remove('colab-df-spinner');\n",
              "      quickchartButtonEl.classList.add('colab-df-quickchart-complete');\n",
              "    }\n",
              "    (() => {\n",
              "      let quickchartButtonEl =\n",
              "        document.querySelector('#df-3954f40a-fe96-4962-9750-a296baac51cd button');\n",
              "      quickchartButtonEl.style.display =\n",
              "        google.colab.kernel.accessAllowed ? 'block' : 'none';\n",
              "    })();\n",
              "  </script>\n",
              "</div>\n",
              "\n",
              "    </div>\n",
              "  </div>\n"
            ],
            "application/vnd.google.colaboratory.intrinsic+json": {
              "type": "dataframe",
              "variable_name": "df",
              "summary": "{\n  \"name\": \"df\",\n  \"rows\": 2313,\n  \"fields\": [\n    {\n      \"column\": \"Sentence\",\n      \"properties\": {\n        \"dtype\": \"string\",\n        \"num_unique_values\": 1452,\n        \"samples\": [\n          \"builtin webcam great skype similar videochat service\",\n          \"guy said insist hinge tightened accept condition repair\",\n          \"company sent whole new cord overnight apologized\"\n        ],\n        \"semantic_type\": \"\",\n        \"description\": \"\"\n      }\n    },\n    {\n      \"column\": \"Aspect Term\",\n      \"properties\": {\n        \"dtype\": \"category\",\n        \"num_unique_values\": 884,\n        \"samples\": [\n          \"talking technician\",\n          \"lcd\",\n          \"multitouch trackpad\"\n        ],\n        \"semantic_type\": \"\",\n        \"description\": \"\"\n      }\n    },\n    {\n      \"column\": \"polarity\",\n      \"properties\": {\n        \"dtype\": \"category\",\n        \"num_unique_values\": 3,\n        \"samples\": [\n          \"neutral\",\n          \"positive\",\n          \"negative\"\n        ],\n        \"semantic_type\": \"\",\n        \"description\": \"\"\n      }\n    },\n    {\n      \"column\": \"from\",\n      \"properties\": {\n        \"dtype\": \"number\",\n        \"std\": 44,\n        \"min\": 0,\n        \"max\": 349,\n        \"num_unique_values\": 202,\n        \"samples\": [\n          152,\n          94,\n          32\n        ],\n        \"semantic_type\": \"\",\n        \"description\": \"\"\n      }\n    },\n    {\n      \"column\": \"to\",\n      \"properties\": {\n        \"dtype\": \"number\",\n        \"std\": 44,\n        \"min\": 3,\n        \"max\": 356,\n        \"num_unique_values\": 202,\n        \"samples\": [\n          140,\n          92,\n          79\n        ],\n        \"semantic_type\": \"\",\n        \"description\": \"\"\n      }\n    }\n  ]\n}"
            }
          },
          "metadata": {},
          "execution_count": 33
        }
      ]
    },
    {
      "cell_type": "markdown",
      "source": [
        "\n",
        "# Bag of Words\n"
      ],
      "metadata": {
        "id": "_vIE5IJ3Zm1Y"
      }
    },
    {
      "cell_type": "code",
      "source": [
        "#importing necessary libraries for BOW\n",
        "import pandas as pd\n",
        "from sklearn.feature_extraction.text import CountVectorizer\n",
        "from sklearn.feature_selection import SelectKBest, chi2\n",
        "from scipy.sparse import hstack\n",
        "\n",
        "# bag of words for sentence\n",
        "vectorSentence = CountVectorizer()\n",
        "sentenceBow = vectorSentence.fit_transform(df['Sentence'])\n",
        "\n",
        "# bog of words for aspect\n",
        "vectorAspect = CountVectorizer()\n",
        "aspectBow = vectorAspect.fit_transform(df['Aspect Term'])\n",
        "\n",
        "#combining both generated BOW of sentence and aspect\n",
        "X_combined = hstack([sentenceBow, aspectBow])\n",
        "\n",
        "\n",
        "#picking the top 100 features using chi square\n",
        "y = df['polarity'].astype('category').cat.codes\n",
        "chi2_selector = SelectKBest(chi2, k=100)\n",
        "#selecting top 100 using chi sqare which will be used as input for training the model on diff classifiers\n",
        "XTop100 = chi2_selector.fit_transform(X_combined, y)\n",
        "\n"
      ],
      "metadata": {
        "id": "KasZOdTdVZn6"
      },
      "execution_count": 34,
      "outputs": []
    },
    {
      "cell_type": "code",
      "source": [
        "#importing the necessary libraries\n",
        "import pandas as pd\n",
        "from sklearn.ensemble import RandomForestClassifier\n",
        "from sklearn.svm import SVC\n",
        "from sklearn.tree import DecisionTreeClassifier\n",
        "from sklearn.model_selection import cross_val_score\n",
        "\n",
        "# loading random forest classifier and training it on the input generated from top k sleected features of BOW\n",
        "rfClassifier = RandomForestClassifier()\n",
        "rfScores = cross_val_score(rfClassifier, XTop100, y, cv=10)\n",
        "\n",
        "\n",
        "#similar to random forest trainig it on SVM classifier\n",
        "svmClassifier = SVC(kernel='linear')\n",
        "svmScores = cross_val_score(svmClassifier, XTop100, y, cv=10)\n",
        "\n",
        "# using the Decision tree classifier\n",
        "dtClassifier = DecisionTreeClassifier()\n",
        "dtScores = cross_val_score(dtClassifier, XTop100, y, cv=10)\n",
        "\n",
        "\n",
        "#printing the accuracies for every classifier\n",
        "print(f\"Random Forest 10-fold CV Accuracy: {rfScores}\")\n",
        "print(f\"Mean Random Forest Accuracy: {rfScores.mean()}\")\n",
        "\n",
        "print(f\"SVM 10-fold CV Accuracy: {svmScores}\")\n",
        "print(f\"Mean SVM Accuracy: {svmScores.mean()}\")\n",
        "\n",
        "print(f\"Decision Tree 10-fold CV Accuracy: {dtScores}\")\n",
        "print(f\"Mean Decision Tree Accuracy: {dtScores.mean()}\")\n"
      ],
      "metadata": {
        "colab": {
          "base_uri": "https://localhost:8080/"
        },
        "id": "krG8F5RvQ8TA",
        "outputId": "a66eb808-4436-4209-d6cf-183b38d66de4"
      },
      "execution_count": 35,
      "outputs": [
        {
          "output_type": "stream",
          "name": "stdout",
          "text": [
            "Random Forest 10-fold CV Accuracy: [0.60344828 0.63362069 0.65086207 0.63636364 0.57575758 0.63636364\n",
            " 0.57142857 0.61471861 0.63636364 0.59307359]\n",
            "Mean Random Forest Accuracy: 0.6152000298552023\n",
            "SVM 10-fold CV Accuracy: [0.5862069  0.62931034 0.68965517 0.61038961 0.5974026  0.62337662\n",
            " 0.58874459 0.61471861 0.62337662 0.61904762]\n",
            "Mean SVM Accuracy: 0.618222869084938\n",
            "Decision Tree 10-fold CV Accuracy: [0.60775862 0.56896552 0.63362069 0.60606061 0.55411255 0.63203463\n",
            " 0.57575758 0.5974026  0.61038961 0.57142857]\n",
            "Mean Decision Tree Accuracy: 0.5957530974772354\n"
          ]
        }
      ]
    },
    {
      "cell_type": "markdown",
      "source": [
        "# GloVe\n"
      ],
      "metadata": {
        "id": "7ebt1SjkC1Yb"
      }
    },
    {
      "cell_type": "code",
      "source": [
        "import pandas as pd\n",
        "import numpy as np\n",
        "from gensim.downloader import load\n",
        "from nltk.tokenize import word_tokenize\n",
        "\n",
        "#loading GloVe model\n",
        "\n",
        "model = load('glove-wiki-gigaword-300')"
      ],
      "metadata": {
        "id": "4zq0791l6aBh"
      },
      "execution_count": 36,
      "outputs": []
    },
    {
      "cell_type": "code",
      "source": [
        "\n",
        "#importing necessary libraries\n",
        "import pandas as pd\n",
        "import numpy as np\n",
        "from gensim.downloader import load\n",
        "from nltk.tokenize import word_tokenize\n",
        "from sklearn.model_selection import cross_val_score\n",
        "from sklearn.svm import SVC\n",
        "from sklearn.ensemble import RandomForestClassifier\n",
        "from sklearn.tree import DecisionTreeClassifier\n",
        "from sklearn.pipeline import make_pipeline\n",
        "from sklearn.preprocessing import StandardScaler\n",
        "\n",
        "\n",
        "\n",
        "#tokenizing sentence and aspect features before creating its embeddings\n",
        "df['Sentence_Tokens'] = df['Sentence'].apply(word_tokenize)\n",
        "df['Aspect_Tokens'] = df['Aspect Term'].apply(word_tokenize)\n",
        "\n",
        "\n",
        "#function to generate sentence embeddings\n",
        "def getSentenceEmbedding(tokens):\n",
        "  # if token not present in GloVe\n",
        "    if len(tokens) == 0:\n",
        "        return np.zeros(300)\n",
        "    else:\n",
        "        valid_embeddings = [model[w] for w in tokens if w in model]\n",
        "        return np.mean(valid_embeddings, axis=0) if valid_embeddings else np.zeros(300)\n",
        "\n",
        "\n",
        "df['Sentence_Embedding'] = df['Sentence_Tokens'].apply(getSentenceEmbedding)\n",
        "\n",
        "\n",
        "#function to generate aspect embeddings\n",
        "def getAspectEmbedding(tokens):\n",
        "   # if token not present in GloVe\n",
        "    if len(tokens) == 0:\n",
        "        return np.zeros(300)\n",
        "    else:\n",
        "        valid_embeddings = [model[w] for w in tokens if w in model]\n",
        "        return np.mean(valid_embeddings, axis=0) if valid_embeddings else np.zeros(300)\n",
        "\n",
        "\n",
        "df['Aspect_Embedding'] = df['Aspect_Tokens'].apply(getAspectEmbedding)\n",
        "\n",
        "\n",
        "XSentence = np.vstack(df['Sentence_Embedding'].values)\n",
        "XAspect = np.vstack(df['Aspect_Embedding'].values)\n",
        "#combining generated embeddings using GloVe of both aspect and sentence\n",
        "XCombined = np.hstack((XSentence, XAspect))\n",
        "\n",
        "\n",
        "y = df['polarity'].astype('category').cat.codes\n",
        "\n",
        "\n",
        "# loading random forest classifier and training it on the input generated from top k sleected features of BOW\n",
        "rfClassifier = RandomForestClassifier()\n",
        "rfScores = cross_val_score(rfClassifier, XCombined, y, cv=10)\n",
        "\n",
        "\n",
        "#similar to random forest trainig it on SVM classifier\n",
        "svmClassifier = SVC(kernel='linear')\n",
        "svmScores = cross_val_score(svmClassifier, XCombined, y, cv=10)\n",
        "\n",
        "# using the Decision tree classifier\n",
        "dtClassifier = DecisionTreeClassifier()\n",
        "dtScores = cross_val_score(dtClassifier, XCombined, y, cv=10)\n",
        "\n",
        "\n",
        "#printing the accuracies for every classifier\n",
        "print(f\"Random Forest 10-fold CV Accuracy: {rfScores}\")\n",
        "print(f\"Mean Random Forest Accuracy: {rfScores.mean()}\")\n",
        "\n",
        "print(f\"SVM 10-fold CV Accuracy: {svmScores}\")\n",
        "print(f\"Mean SVM Accuracy: {svmScores.mean()}\")\n",
        "\n",
        "print(f\"Decision Tree 10-fold CV Accuracy: {dtScores}\")\n",
        "print(f\"Mean Decision Tree Accuracy: {dtScores.mean()}\")\n"
      ],
      "metadata": {
        "colab": {
          "base_uri": "https://localhost:8080/"
        },
        "id": "3v76dYCTJkJY",
        "outputId": "e0d1767a-93c0-462f-f9e9-9b7a67467b97"
      },
      "execution_count": 37,
      "outputs": [
        {
          "output_type": "stream",
          "name": "stdout",
          "text": [
            "Random Forest 10-fold CV Accuracy: [0.57758621 0.56896552 0.69396552 0.61471861 0.60606061 0.62337662\n",
            " 0.66233766 0.66666667 0.62770563 0.61904762]\n",
            "Mean Random Forest Accuracy: 0.6260430661292731\n",
            "SVM 10-fold CV Accuracy: [0.63793103 0.61637931 0.61637931 0.62337662 0.5974026  0.61904762\n",
            " 0.61471861 0.63203463 0.62770563 0.60606061]\n",
            "Mean SVM Accuracy: 0.6191035975518735\n",
            "Decision Tree 10-fold CV Accuracy: [0.53448276 0.48275862 0.52586207 0.47186147 0.47619048 0.53246753\n",
            " 0.51948052 0.47619048 0.53246753 0.46753247]\n",
            "Mean Decision Tree Accuracy: 0.5019293924466337\n"
          ]
        }
      ]
    },
    {
      "cell_type": "markdown",
      "source": [
        "# USE"
      ],
      "metadata": {
        "id": "Dwc9Wo5rlCd7"
      }
    },
    {
      "cell_type": "code",
      "source": [
        "#importing necessary libraries\n",
        "! pip install tensorflow tensorflow_hub"
      ],
      "metadata": {
        "colab": {
          "base_uri": "https://localhost:8080/"
        },
        "id": "QANqNX_dZ3Jx",
        "outputId": "6aa74f4c-8ded-4176-c7bc-6a3c85ca4334"
      },
      "execution_count": 38,
      "outputs": [
        {
          "output_type": "stream",
          "name": "stdout",
          "text": [
            "Requirement already satisfied: tensorflow in /usr/local/lib/python3.10/dist-packages (2.17.0)\n",
            "Requirement already satisfied: tensorflow_hub in /usr/local/lib/python3.10/dist-packages (0.16.1)\n",
            "Requirement already satisfied: absl-py>=1.0.0 in /usr/local/lib/python3.10/dist-packages (from tensorflow) (1.4.0)\n",
            "Requirement already satisfied: astunparse>=1.6.0 in /usr/local/lib/python3.10/dist-packages (from tensorflow) (1.6.3)\n",
            "Requirement already satisfied: flatbuffers>=24.3.25 in /usr/local/lib/python3.10/dist-packages (from tensorflow) (24.3.25)\n",
            "Requirement already satisfied: gast!=0.5.0,!=0.5.1,!=0.5.2,>=0.2.1 in /usr/local/lib/python3.10/dist-packages (from tensorflow) (0.6.0)\n",
            "Requirement already satisfied: google-pasta>=0.1.1 in /usr/local/lib/python3.10/dist-packages (from tensorflow) (0.2.0)\n",
            "Requirement already satisfied: h5py>=3.10.0 in /usr/local/lib/python3.10/dist-packages (from tensorflow) (3.11.0)\n",
            "Requirement already satisfied: libclang>=13.0.0 in /usr/local/lib/python3.10/dist-packages (from tensorflow) (18.1.1)\n",
            "Requirement already satisfied: ml-dtypes<0.5.0,>=0.3.1 in /usr/local/lib/python3.10/dist-packages (from tensorflow) (0.4.1)\n",
            "Requirement already satisfied: opt-einsum>=2.3.2 in /usr/local/lib/python3.10/dist-packages (from tensorflow) (3.4.0)\n",
            "Requirement already satisfied: packaging in /usr/local/lib/python3.10/dist-packages (from tensorflow) (24.1)\n",
            "Requirement already satisfied: protobuf!=4.21.0,!=4.21.1,!=4.21.2,!=4.21.3,!=4.21.4,!=4.21.5,<5.0.0dev,>=3.20.3 in /usr/local/lib/python3.10/dist-packages (from tensorflow) (3.20.3)\n",
            "Requirement already satisfied: requests<3,>=2.21.0 in /usr/local/lib/python3.10/dist-packages (from tensorflow) (2.32.3)\n",
            "Requirement already satisfied: setuptools in /usr/local/lib/python3.10/dist-packages (from tensorflow) (71.0.4)\n",
            "Requirement already satisfied: six>=1.12.0 in /usr/local/lib/python3.10/dist-packages (from tensorflow) (1.16.0)\n",
            "Requirement already satisfied: termcolor>=1.1.0 in /usr/local/lib/python3.10/dist-packages (from tensorflow) (2.4.0)\n",
            "Requirement already satisfied: typing-extensions>=3.6.6 in /usr/local/lib/python3.10/dist-packages (from tensorflow) (4.12.2)\n",
            "Requirement already satisfied: wrapt>=1.11.0 in /usr/local/lib/python3.10/dist-packages (from tensorflow) (1.16.0)\n",
            "Requirement already satisfied: grpcio<2.0,>=1.24.3 in /usr/local/lib/python3.10/dist-packages (from tensorflow) (1.64.1)\n",
            "Requirement already satisfied: tensorboard<2.18,>=2.17 in /usr/local/lib/python3.10/dist-packages (from tensorflow) (2.17.0)\n",
            "Requirement already satisfied: keras>=3.2.0 in /usr/local/lib/python3.10/dist-packages (from tensorflow) (3.4.1)\n",
            "Requirement already satisfied: tensorflow-io-gcs-filesystem>=0.23.1 in /usr/local/lib/python3.10/dist-packages (from tensorflow) (0.37.1)\n",
            "Requirement already satisfied: numpy<2.0.0,>=1.23.5 in /usr/local/lib/python3.10/dist-packages (from tensorflow) (1.26.4)\n",
            "Requirement already satisfied: tf-keras>=2.14.1 in /usr/local/lib/python3.10/dist-packages (from tensorflow_hub) (2.17.0)\n",
            "Requirement already satisfied: wheel<1.0,>=0.23.0 in /usr/local/lib/python3.10/dist-packages (from astunparse>=1.6.0->tensorflow) (0.44.0)\n",
            "Requirement already satisfied: rich in /usr/local/lib/python3.10/dist-packages (from keras>=3.2.0->tensorflow) (13.8.1)\n",
            "Requirement already satisfied: namex in /usr/local/lib/python3.10/dist-packages (from keras>=3.2.0->tensorflow) (0.0.8)\n",
            "Requirement already satisfied: optree in /usr/local/lib/python3.10/dist-packages (from keras>=3.2.0->tensorflow) (0.12.1)\n",
            "Requirement already satisfied: charset-normalizer<4,>=2 in /usr/local/lib/python3.10/dist-packages (from requests<3,>=2.21.0->tensorflow) (3.3.2)\n",
            "Requirement already satisfied: idna<4,>=2.5 in /usr/local/lib/python3.10/dist-packages (from requests<3,>=2.21.0->tensorflow) (3.10)\n",
            "Requirement already satisfied: urllib3<3,>=1.21.1 in /usr/local/lib/python3.10/dist-packages (from requests<3,>=2.21.0->tensorflow) (2.2.3)\n",
            "Requirement already satisfied: certifi>=2017.4.17 in /usr/local/lib/python3.10/dist-packages (from requests<3,>=2.21.0->tensorflow) (2024.8.30)\n",
            "Requirement already satisfied: markdown>=2.6.8 in /usr/local/lib/python3.10/dist-packages (from tensorboard<2.18,>=2.17->tensorflow) (3.7)\n",
            "Requirement already satisfied: tensorboard-data-server<0.8.0,>=0.7.0 in /usr/local/lib/python3.10/dist-packages (from tensorboard<2.18,>=2.17->tensorflow) (0.7.2)\n",
            "Requirement already satisfied: werkzeug>=1.0.1 in /usr/local/lib/python3.10/dist-packages (from tensorboard<2.18,>=2.17->tensorflow) (3.0.4)\n",
            "Requirement already satisfied: MarkupSafe>=2.1.1 in /usr/local/lib/python3.10/dist-packages (from werkzeug>=1.0.1->tensorboard<2.18,>=2.17->tensorflow) (2.1.5)\n",
            "Requirement already satisfied: markdown-it-py>=2.2.0 in /usr/local/lib/python3.10/dist-packages (from rich->keras>=3.2.0->tensorflow) (3.0.0)\n",
            "Requirement already satisfied: pygments<3.0.0,>=2.13.0 in /usr/local/lib/python3.10/dist-packages (from rich->keras>=3.2.0->tensorflow) (2.18.0)\n",
            "Requirement already satisfied: mdurl~=0.1 in /usr/local/lib/python3.10/dist-packages (from markdown-it-py>=2.2.0->rich->keras>=3.2.0->tensorflow) (0.1.2)\n"
          ]
        }
      ]
    },
    {
      "cell_type": "code",
      "source": [
        "\n",
        "#importing necessary libraries\n",
        "import tensorflow as tf\n",
        "import tensorflow_hub as hub\n",
        "import pandas as pd\n",
        "import numpy as np\n",
        "from sklearn.model_selection import cross_val_score\n",
        "from sklearn.svm import SVC\n",
        "from sklearn.ensemble import RandomForestClassifier\n",
        "from sklearn.tree import DecisionTreeClassifier\n",
        "from sklearn.pipeline import make_pipeline\n",
        "from sklearn.preprocessing import StandardScaler\n",
        "\n",
        "#loading the Universal Sentence Encoder\n",
        "model = hub.load(\"https://tfhub.dev/google/universal-sentence-encoder/4\")\n",
        "\n",
        "\n",
        "def getUseEmbedding(text):\n",
        "    return model([text]).numpy().flatten()\n",
        "\n",
        "#generating sentence and aspect embeddings using USE model\n",
        "df['SentenceEmbedding'] = df['Sentence'].apply(getUseEmbedding)\n",
        "df['AspectEmbedding'] = df['Aspect Term'].apply(getUseEmbedding)\n",
        "\n",
        "\n",
        "XSentence = np.vstack(df['SentenceEmbedding'].values)\n",
        "XAspect = np.vstack(df['AspectEmbedding'].values)\n",
        "#similar to previous methods combining sentence and aspect embeddings\n",
        "XCombined = np.hstack((XSentence, XAspect))\n",
        "\n",
        "\n",
        "y = df['polarity'].astype('category').cat.codes\n",
        "\n",
        "\n",
        "rfClassifier = RandomForestClassifier()\n",
        "rfScores = cross_val_score(rfClassifier, XCombined, y, cv=10)\n",
        "\n",
        "\n",
        "#similar to random forest trainig it on SVM classifier\n",
        "svmClassifier = SVC(kernel='linear')\n",
        "svmScores = cross_val_score(svmClassifier, XCombined, y, cv=10)\n",
        "\n",
        "# using the Decision tree classifier\n",
        "dtClassifier = DecisionTreeClassifier()\n",
        "dtScores = cross_val_score(dtClassifier, XCombined, y, cv=10)\n",
        "\n",
        "\n",
        "#printing the accuracies for every classifier\n",
        "print(f\"Random Forest 10-fold CV Accuracy: {rfScores}\")\n",
        "print(f\"Mean Random Forest Accuracy: {rfScores.mean()}\")\n",
        "\n",
        "print(f\"SVM 10-fold CV Accuracy: {svmScores}\")\n",
        "print(f\"Mean SVM Accuracy: {svmScores.mean()}\")\n",
        "\n",
        "print(f\"Decision Tree 10-fold CV Accuracy: {dtScores}\")\n",
        "print(f\"Mean Decision Tree Accuracy: {dtScores.mean()}\")"
      ],
      "metadata": {
        "colab": {
          "base_uri": "https://localhost:8080/"
        },
        "id": "WKnT_pS1Z_Pw",
        "outputId": "469286ed-08b0-48bf-81c7-3fada2a4894a"
      },
      "execution_count": 39,
      "outputs": [
        {
          "output_type": "stream",
          "name": "stdout",
          "text": [
            "Random Forest 10-fold CV Accuracy: [0.64224138 0.56896552 0.69827586 0.67532468 0.65800866 0.66233766\n",
            " 0.67532468 0.66233766 0.64502165 0.6017316 ]\n",
            "Mean Random Forest Accuracy: 0.6489569338707268\n",
            "SVM 10-fold CV Accuracy: [0.63793103 0.65086207 0.7112069  0.64502165 0.6969697  0.64935065\n",
            " 0.68398268 0.61904762 0.70995671 0.65367965]\n",
            "Mean SVM Accuracy: 0.6658008658008658\n",
            "Decision Tree 10-fold CV Accuracy: [0.52155172 0.56465517 0.54310345 0.50649351 0.52380952 0.6017316\n",
            " 0.54978355 0.4978355  0.54978355 0.52380952]\n",
            "Mean Decision Tree Accuracy: 0.538255709807434\n"
          ]
        }
      ]
    },
    {
      "cell_type": "code",
      "source": [],
      "metadata": {
        "id": "-l5UAfPdlPjw"
      },
      "execution_count": 39,
      "outputs": []
    }
  ]
}